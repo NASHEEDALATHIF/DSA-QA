{
 "cells": [
  {
   "cell_type": "markdown",
   "metadata": {},
   "source": [
    "## 1. Complete the following code to find the area of an equilateral triangle. Output should be as displayed"
   ]
  },
  {
   "cell_type": "code",
   "execution_count": 13,
   "metadata": {},
   "outputs": [
    {
     "name": "stdout",
     "output_type": "stream",
     "text": [
      "Enter the side of the equilateral triangle: 3\n",
      "Area= 3.8971143170299736\n"
     ]
    }
   ],
   "source": [
    "import math\n",
    "side = float(input(\"Enter the side of the equilateral triangle: \"))\n",
    "area = ((math.sqrt(3))/4)*pow(side,2)\n",
    "print(\"Area=\",area)\n"
   ]
  },
  {
   "cell_type": "markdown",
   "metadata": {},
   "source": [
    "## 2. Write a program to count the number of each characters in a string"
   ]
  },
  {
   "cell_type": "code",
   "execution_count": 2,
   "metadata": {},
   "outputs": [
    {
     "name": "stdout",
     "output_type": "stream",
     "text": [
      "Enter the string:ameekha\n",
      "Total number of characters in the given string: 7\n"
     ]
    }
   ],
   "source": [
    "str1 =input(\"Enter the string:\")\n",
    "total=0\n",
    "for i in str1:\n",
    "    total=total+1\n",
    "print(\"Total number of characters in the given string:\", total)    \n",
    "    \n"
   ]
  },
  {
   "cell_type": "markdown",
   "metadata": {},
   "source": [
    "## 3. Write a program to find the area and perimeter of a rectangle using functions"
   ]
  },
  {
   "cell_type": "code",
   "execution_count": 1,
   "metadata": {},
   "outputs": [
    {
     "name": "stdout",
     "output_type": "stream",
     "text": [
      "Enter the width of rectangle :20\n",
      "Enter the width of rectangle :10\n",
      "Area of the rectangle is : 200.00\n",
      "Perimeter of the rectangle is: 60.00\n"
     ]
    }
   ],
   "source": [
    "def Area(width,height):\n",
    "    Area=width*height\n",
    "    Perimeter = 2*(width + height)\n",
    "    print(\"Area of the rectangle is : %.2f\" %Area)\n",
    "    print(\"Perimeter of the rectangle is: %.2f\" %Perimeter)\n",
    "width = float(input('Enter the width of rectangle :')) \n",
    "height = float(input('Enter the width of rectangle :'))\n",
    "Area(width,height)"
   ]
  },
  {
   "cell_type": "markdown",
   "metadata": {},
   "source": [
    "## 4. Write a program to print the fibonacci series till a specified number"
   ]
  },
  {
   "cell_type": "code",
   "execution_count": 12,
   "metadata": {},
   "outputs": [
    {
     "name": "stdout",
     "output_type": "stream",
     "text": [
      "Enter tha range:5\n",
      "0\n",
      "1\n",
      "1\n",
      "2\n",
      "3\n"
     ]
    }
   ],
   "source": [
    "num =int(input(\"Enter tha range:\"))\n",
    "First_val=0\n",
    "Second_val=1\n",
    "for n in range(0, num):\n",
    "    if(n<=1):\n",
    "        next=n\n",
    "    else:\n",
    "        next=First_val+Second_val\n",
    "        First_val=Second_val\n",
    "        Second_val=next\n",
    "    print(next)   "
   ]
  },
  {
   "cell_type": "markdown",
   "metadata": {},
   "source": [
    "## 5. Complete the following code to find the minimum of 3 number using conditional statements. Output should be as displayed"
   ]
  },
  {
   "cell_type": "code",
   "execution_count": 20,
   "metadata": {},
   "outputs": [
    {
     "name": "stdout",
     "output_type": "stream",
     "text": [
      "Enter three numbers followed by  : 6 7 8\n",
      "First number : 6\n",
      "Second number : 7\n",
      "Third number : 8\n",
      "6  is smallest\n"
     ]
    }
   ],
   "source": [
    "a,b,c = input(\"Enter three numbers followed by  : \").split()\n",
    "\n",
    "print(\"First number :\",a)\n",
    "print(\"Second number :\",b)\n",
    "print(\"Third number :\",c)\n",
    "\n",
    "if (a==b==c):\n",
    "    print(\"Entered numbers are equal!!!\")\n",
    "elif (a<b and a<c):\n",
    "    print(a,\" is smallest\")\n",
    "elif(b<c and b<a):\n",
    "    print(b,\" is smallest\")\n",
    "else:\n",
    "    print(c,\" is smallest\")"
   ]
  },
  {
   "cell_type": "markdown",
   "metadata": {},
   "source": [
    "## 6. Write a program to print star pyramind. The number of rows should be taken as input from the user"
   ]
  },
  {
   "cell_type": "code",
   "execution_count": 33,
   "metadata": {},
   "outputs": [
    {
     "name": "stdout",
     "output_type": "stream",
     "text": [
      "Enter the pattern rows:5\n",
      "   * \n",
      "  * * \n",
      " * * * \n",
      "* * * * \n",
      "* * * * * \n"
     ]
    }
   ],
   "source": [
    "rows= int(input(\"Enter the pattern rows:\"))\n",
    "k=n-1\n",
    "\n",
    "for i in range(0,rows):\n",
    "    for j in range(0,k):\n",
    "        print(end= \" \")\n",
    "    k=k-1    \n",
    "    for j in range(0, i+1):\n",
    "        print('*', end = ' ')\n",
    "    print('\\r')    "
   ]
  },
  {
   "cell_type": "markdown",
   "metadata": {},
   "source": [
    "## 7. Complete the following code to convert hour into seconds. Output should be as displayed"
   ]
  },
  {
   "cell_type": "code",
   "execution_count": 37,
   "metadata": {},
   "outputs": [
    {
     "name": "stdout",
     "output_type": "stream",
     "text": [
      "Enter the time in hours:1\n",
      "1.0  Hour is equal to 3600.0  Seconds\n"
     ]
    }
   ],
   "source": [
    "def to_seconds(t):\n",
    "    t=t*60*60\n",
    "    return t\n",
    "time_in_hours = float(input(\"Enter the time in hours:\"))\n",
    "print(time_in_hours ,\" Hour is equal to\" ,to_seconds(time_in_hours) ,\" Seconds\")"
   ]
  },
  {
   "cell_type": "markdown",
   "metadata": {},
   "source": [
    "## 8. Write a program to print multiplication table as below"
   ]
  },
  {
   "cell_type": "code",
   "execution_count": 16,
   "metadata": {},
   "outputs": [
    {
     "name": "stdout",
     "output_type": "stream",
     "text": [
      "Enter a number to find the multiplication table:5\n",
      "1 * 5 = 5\n",
      "2 * 5 = 10\n",
      "3 * 5 = 15\n",
      "4 * 5 = 20\n",
      "5 * 5 = 25\n",
      "6 * 5 = 30\n",
      "7 * 5 = 35\n",
      "8 * 5 = 40\n",
      "9 * 5 = 45\n",
      "10 * 5 = 50\n"
     ]
    }
   ],
   "source": [
    "num=int(input(\"Enter a number to find the multiplication table:\"))\n",
    "for i in range (1,11):\n",
    "    print(i,\"*\",num,\"=\", i*num)"
   ]
  },
  {
   "cell_type": "markdown",
   "metadata": {},
   "source": [
    "## 9. Write a program to take your 5 favorite food as list and print each as 'I like Biriyani'"
   ]
  },
  {
   "cell_type": "code",
   "execution_count": 40,
   "metadata": {},
   "outputs": [
    {
     "name": "stdout",
     "output_type": "stream",
     "text": [
      "Enter your favourite food:chocolate milk almond icecream biriyani\n",
      "I like chocolate  \n",
      "I like milk  \n",
      "I like almond  \n",
      "I like icecream  \n",
      "I like biriyani  \n"
     ]
    }
   ],
   "source": [
    "fav_food =input(\"Enter your favourite food:\").split()\n",
    "for i in fav_food:\n",
    "    print(\"I like\", i,\" \")  \n",
    "               "
   ]
  },
  {
   "cell_type": "code",
   "execution_count": null,
   "metadata": {},
   "outputs": [],
   "source": []
  },
  {
   "cell_type": "code",
   "execution_count": null,
   "metadata": {},
   "outputs": [],
   "source": []
  }
 ],
 "metadata": {
  "kernelspec": {
   "display_name": "Python 3 (ipykernel)",
   "language": "python",
   "name": "python3"
  },
  "language_info": {
   "codemirror_mode": {
    "name": "ipython",
    "version": 3
   },
   "file_extension": ".py",
   "mimetype": "text/x-python",
   "name": "python",
   "nbconvert_exporter": "python",
   "pygments_lexer": "ipython3",
   "version": "3.9.7"
  }
 },
 "nbformat": 4,
 "nbformat_minor": 4
}
